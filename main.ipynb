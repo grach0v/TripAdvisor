{
 "cells": [
  {
   "cell_type": "code",
   "execution_count": 1,
   "id": "ca00c8b3",
   "metadata": {},
   "outputs": [
    {
     "data": {
      "text/plain": [
       "True"
      ]
     },
     "execution_count": 1,
     "metadata": {},
     "output_type": "execute_result"
    }
   ],
   "source": [
    "from dotenv import load_dotenv\n",
    "import os\n",
    "load_dotenv()"
   ]
  },
  {
   "cell_type": "code",
   "execution_count": 2,
   "id": "78b3170e",
   "metadata": {},
   "outputs": [],
   "source": [
    "openai_api_key = os.getenv(\"OPENAI_API\")"
   ]
  },
  {
   "cell_type": "code",
   "execution_count": 5,
   "id": "9a8b743e",
   "metadata": {},
   "outputs": [],
   "source": [
    "from autogen_agentchat.agents import AssistantAgent, UserProxyAgent\n",
    "from autogen_ext.models.openai import OpenAIChatCompletionClient\n",
    "from autogen_ext.tools.langchain import LangChainToolAdapter\n",
    "from langchain_core.tools import Tool\n",
    "from langchain_google_community import GoogleSearchAPIWrapper\n",
    "from autogen_agentchat.ui import Console\n",
    "from autogen_agentchat.teams import MagenticOneGroupChat\n",
    "from autogen_agentchat.conditions import TextMentionTermination"
   ]
  },
  {
   "cell_type": "code",
   "execution_count": 4,
   "id": "700e1d47",
   "metadata": {},
   "outputs": [],
   "source": [
    "model_client = OpenAIChatCompletionClient(\n",
    "    model=\"gpt-4o\",\n",
    "    api_key=openai_api_key,\n",
    ")"
   ]
  },
  {
   "cell_type": "code",
   "execution_count": null,
   "id": "ee6e3d62",
   "metadata": {},
   "outputs": [],
   "source": [
    "planner_prompt = \"\"\"\n",
    "You are a travel planner. \n",
    "You will be given a user query and you need to plan a trip for the user.\n",
    "Yoo should create a plan of the trip that will be passed to the other agents to find information in the web.\n",
    "Give clear instructions what information should be googled.\n",
    "\"\"\"\n",
    "\n",
    "search_prompt = \"\"\"\n",
    "You are a search agent.\n",
    "You will be given a query and you need to find the information in the web.\n",
    "You should use the Google search engine to find the information.\n",
    "\"\"\"\n",
    "\n",
    "critic_prompt = \"\"\"\n",
    "You are a critic agent.\n",
    "You will be given a plan and you need to critique it.\n",
    "You should provide constructive feedback on the plan.\n",
    "Respond with 'APPROVE' to when user is satisfied.\n",
    "\"\"\"\n",
    "\n",
    "search = GoogleSearchAPIWrapper(k=10)\n",
    "\n",
    "web_tool = LangChainToolAdapter(\n",
    "    Tool(\n",
    "        name=\"google_search\",\n",
    "        description=\"Search Google for recent results.\",\n",
    "        func=search.run,\n",
    "    )\n",
    ")\n",
    "\n",
    "planner_agent = AssistantAgent(\n",
    "    \"planner\",\n",
    "    model_client=model_client,\n",
    "    system_message=planner_prompt,\n",
    ")\n",
    "\n",
    "search_agent = AssistantAgent(\n",
    "    \"search\",\n",
    "    model_client=model_client,\n",
    "    system_message=search_prompt,\n",
    "    tools=[web_tool],\n",
    ")\n",
    "\n",
    "critic_agent = AssistantAgent(\n",
    "    \"critic\",\n",
    "    model_client=model_client,\n",
    "    system_message=critic_prompt,\n",
    ")\n",
    "\n",
    "termination = TextMentionTermination(\"APPROVE\")\n",
    "\n",
    "user_proxy = UserProxyAgent(\"user_proxy\", input_func=input)\n",
    "\n",
    "team = MagenticOneGroupChat(\n",
    "    [planner_agent, search_agent, critic_agent, user_proxy], \n",
    "    termination_condition=termination\n",
    ")"
   ]
  },
  {
   "cell_type": "code",
   "execution_count": null,
   "id": "7e7a9014",
   "metadata": {},
   "outputs": [],
   "source": []
  },
  {
   "cell_type": "code",
   "execution_count": 10,
   "id": "4ab13483",
   "metadata": {},
   "outputs": [
    {
     "name": "stdout",
     "output_type": "stream",
     "text": [
      "---------- user ----------\n",
      "What is the weather in New York?\n",
      "---------- weather_agent ----------\n",
      "[FunctionCall(id='call_cFdGv9fSCQoWELhgeqSgztwY', arguments='{\"city\":\"New York\"}', name='get_weather')]\n",
      "---------- weather_agent ----------\n",
      "[FunctionExecutionResult(content='The weather in New York is 73 degrees and Sunny.', name='get_weather', call_id='call_cFdGv9fSCQoWELhgeqSgztwY', is_error=False)]\n",
      "---------- weather_agent ----------\n",
      "The current weather in New York is 73 degrees and sunny.\n"
     ]
    },
    {
     "data": {
      "text/plain": [
       "TaskResult(messages=[TextMessage(source='user', models_usage=None, metadata={}, content='What is the weather in New York?', type='TextMessage'), ToolCallRequestEvent(source='weather_agent', models_usage=RequestUsage(prompt_tokens=0, completion_tokens=0), metadata={}, content=[FunctionCall(id='call_cFdGv9fSCQoWELhgeqSgztwY', arguments='{\"city\":\"New York\"}', name='get_weather')], type='ToolCallRequestEvent'), ToolCallExecutionEvent(source='weather_agent', models_usage=None, metadata={}, content=[FunctionExecutionResult(content='The weather in New York is 73 degrees and Sunny.', name='get_weather', call_id='call_cFdGv9fSCQoWELhgeqSgztwY', is_error=False)], type='ToolCallExecutionEvent'), TextMessage(source='weather_agent', models_usage=RequestUsage(prompt_tokens=0, completion_tokens=0), metadata={}, content='The current weather in New York is 73 degrees and sunny.', type='TextMessage')], stop_reason=None)"
      ]
     },
     "execution_count": 10,
     "metadata": {},
     "output_type": "execute_result"
    }
   ],
   "source": [
    "async def get_weather(city: str) -> str:\n",
    "    \"\"\"Get the weather for a given city.\"\"\"\n",
    "    return f\"The weather in {city} is 73 degrees and Sunny.\"\n",
    "\n",
    "\n",
    "\n",
    "model_client = OpenAIChatCompletionClient(\n",
    "    model=\"gpt-4o\",\n",
    "    api_key=openai_api_key,\n",
    ")\n",
    "\n",
    "agent = AssistantAgent(\n",
    "    name=\"weather_agent\",\n",
    "    model_client=model_client,\n",
    "    tools=[get_weather],\n",
    "    system_message=\"You are a helpful assistant.\",\n",
    "    reflect_on_tool_use=True,\n",
    "    model_client_stream=True,  # Enable streaming tokens from the model client.\n",
    ")\n",
    "\n",
    "await Console(agent.run_stream(task=\"What is the weather in New York?\"))"
   ]
  },
  {
   "cell_type": "code",
   "execution_count": null,
   "id": "ad7ad1ef",
   "metadata": {},
   "outputs": [],
   "source": []
  }
 ],
 "metadata": {
  "kernelspec": {
   "display_name": "jb",
   "language": "python",
   "name": "python3"
  },
  "language_info": {
   "codemirror_mode": {
    "name": "ipython",
    "version": 3
   },
   "file_extension": ".py",
   "mimetype": "text/x-python",
   "name": "python",
   "nbconvert_exporter": "python",
   "pygments_lexer": "ipython3",
   "version": "3.13.2"
  }
 },
 "nbformat": 4,
 "nbformat_minor": 5
}
